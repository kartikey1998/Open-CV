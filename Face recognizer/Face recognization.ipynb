{
 "cells": [
  {
   "cell_type": "code",
   "execution_count": 45,
   "metadata": {},
   "outputs": [],
   "source": [
    "import numpy as np\n",
    "import cv2 as cv\n",
    "import os"
   ]
  },
  {
   "cell_type": "code",
   "execution_count": 46,
   "metadata": {},
   "outputs": [
    {
     "data": {
      "text/plain": [
       "['Ben Afflek', 'Elton John', 'Jerry Seinfield', 'Madonna', 'Mindy Kaling']"
      ]
     },
     "execution_count": 46,
     "metadata": {},
     "output_type": "execute_result"
    }
   ],
   "source": [
    "people = []\n",
    "dirr ='../Data set/Faces/train'\n",
    "for i in os.listdir(dirr):\n",
    "    people.append(i)\n",
    "people"
   ]
  },
  {
   "cell_type": "code",
   "execution_count": 47,
   "metadata": {},
   "outputs": [],
   "source": [
    "features = []\n",
    "labels = []"
   ]
  },
  {
   "cell_type": "code",
   "execution_count": 48,
   "metadata": {},
   "outputs": [],
   "source": [
    "Haar_cascade = cv.CascadeClassifier('har_caascade.xml')"
   ]
  },
  {
   "cell_type": "code",
   "execution_count": 49,
   "metadata": {},
   "outputs": [
    {
     "name": "stdout",
     "output_type": "stream",
     "text": [
      "84\n",
      "84\n"
     ]
    }
   ],
   "source": [
    "def create_train():\n",
    "    num = 0\n",
    "    for person in people:\n",
    "        path = os.path.join(dirr, person)\n",
    "        label = people.index(person)\n",
    "        \n",
    "        for img in os.listdir(path):\n",
    "            img_path = os.path.join(path, img)\n",
    "            image = cv.imread(img_path)\n",
    "            '''num +=1\n",
    "            print(num)'''\n",
    "            gray = cv.cvtColor(image, cv.COLOR_BGR2GRAY)\n",
    "            faces = Haar_cascade.detectMultiScale(gray, scaleFactor=1.1, minNeighbors=2)\n",
    "            for (x,y,w,h)in faces:\n",
    "                face_region = gray[y:y+h, x:x+w]\n",
    "                features.append(face_region)\n",
    "                labels.append(label)\n",
    "                \n",
    "create_train()\n",
    "print(len(features))\n",
    "print(len(labels))\n"
   ]
  },
  {
   "cell_type": "code",
   "execution_count": 50,
   "metadata": {},
   "outputs": [],
   "source": [
    "features = np.array(features, dtype = 'object')"
   ]
  },
  {
   "cell_type": "code",
   "execution_count": 51,
   "metadata": {},
   "outputs": [],
   "source": [
    "labels = np.array(labels)"
   ]
  },
  {
   "cell_type": "code",
   "execution_count": 52,
   "metadata": {},
   "outputs": [],
   "source": [
    "recognizer = cv.face.LBPHFaceRecognizer_create()"
   ]
  },
  {
   "cell_type": "code",
   "execution_count": 53,
   "metadata": {},
   "outputs": [],
   "source": [
    "recognizer.train(features, labels)"
   ]
  },
  {
   "cell_type": "code",
   "execution_count": 54,
   "metadata": {},
   "outputs": [],
   "source": [
    "recognizer.save('face_recognizeer.yml')"
   ]
  },
  {
   "cell_type": "code",
   "execution_count": 55,
   "metadata": {},
   "outputs": [],
   "source": [
    "np.save(\"features.npy\", features)\n",
    "np.save('labels.npy', labels)"
   ]
  },
  {
   "cell_type": "code",
   "execution_count": 59,
   "metadata": {},
   "outputs": [],
   "source": [
    "immg = cv.imread(r'C:\\Users\\chhip\\Desktop\\deep learning\\Data set\\Faces\\val\\elton_john\\2.jpg')"
   ]
  },
  {
   "cell_type": "code",
   "execution_count": 60,
   "metadata": {},
   "outputs": [],
   "source": [
    "gray = cv.cvtColor(immg, cv.COLOR_BGR2GRAY)\n",
    "cv.imshow('person', gray)\n",
    "cv.waitKey()\n",
    "cv.destroyAllWindows()"
   ]
  },
  {
   "cell_type": "code",
   "execution_count": 63,
   "metadata": {},
   "outputs": [
    {
     "name": "stdout",
     "output_type": "stream",
     "text": [
      "labels = Jerry Seinfield with a confidence of128.77428660983264\n"
     ]
    }
   ],
   "source": [
    "faces_rect =Haar_cascade.detectMultiScale(gray, scaleFactor=1.1, minNeighbors=2)\n",
    "for(x,y,w,h) in faces_rect:\n",
    "    face_roi = gray[y:y+h, x:x+h]\n",
    "    label, confidence = recognizer.predict(face_roi)\n",
    "    print(f'labels = {people[label]} with a confidence of{confidence}')\n",
    "    cv.putText(immg, str(people[label]),(20,20), cv.FONT_HERSHEY_COMPLEX, .5, (0,255,0), thickness =2)\n",
    "    cv.rectangle(immg, (x,y), (x+w, y+h), (0,255,0), thickness =2)\n",
    "cv.imshow('Detected face', immg)\n",
    "cv.waitKey()\n",
    "cv.destroyAllWindows()"
   ]
  }
 ],
 "metadata": {
  "kernelspec": {
   "display_name": "Python 3",
   "language": "python",
   "name": "python3"
  },
  "language_info": {
   "codemirror_mode": {
    "name": "ipython",
    "version": 3
   },
   "file_extension": ".py",
   "mimetype": "text/x-python",
   "name": "python",
   "nbconvert_exporter": "python",
   "pygments_lexer": "ipython3",
   "version": "3.8.5"
  }
 },
 "nbformat": 4,
 "nbformat_minor": 4
}
