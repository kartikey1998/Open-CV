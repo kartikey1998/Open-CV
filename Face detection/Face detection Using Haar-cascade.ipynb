{
 "cells": [
  {
   "cell_type": "markdown",
   "metadata": {},
   "source": [
    "# Face detection on image "
   ]
  },
  {
   "cell_type": "code",
   "execution_count": 2,
   "metadata": {},
   "outputs": [],
   "source": [
    "import cv2 as cv\n",
    "import numpy as np"
   ]
  },
  {
   "cell_type": "code",
   "execution_count": 3,
   "metadata": {},
   "outputs": [],
   "source": [
    "img = cv.imread('D:\\IMG_20210221_164251.jpg')\n",
    "img = cv.resize(img,(int(img.shape[1]*.2), int(img.shape[0]*.2)), interpolation = cv.INTER_AREA)\n",
    "cv.imshow('img', img )\n",
    "cv.waitKey()\n",
    "cv.destroyAllWindows()"
   ]
  },
  {
   "cell_type": "code",
   "execution_count": 4,
   "metadata": {},
   "outputs": [],
   "source": [
    "gray = cv.cvtColor(img, cv.COLOR_BGR2GRAY)\n",
    "cv.imshow('gray', gray )\n",
    "cv.waitKey()\n",
    "cv.destroyAllWindows()\n"
   ]
  },
  {
   "cell_type": "code",
   "execution_count": 5,
   "metadata": {},
   "outputs": [],
   "source": [
    "Haar-cascade = cv.CascadeClassifier('har_caascade.xml')\n",
    "faces = Haar-cascade.detectMultiScale(gray, scaleFactor = 1.1, minNeighbors = 5)\n",
    "len(faces) \n",
    "for (x,y,w,h) in faces:\n",
    "    cv.rectangle(img, (x,y), (x+w, y+h), (0,255,0), thickness = 2)\n",
    "cv.imshow('detected faces', img )\n",
    "cv.waitKey()\n",
    "cv.destroyAllWindows()"
   ]
  },
  {
   "cell_type": "markdown",
   "metadata": {},
   "source": [
    "# Face detection using webcam"
   ]
  },
  {
   "cell_type": "code",
   "execution_count": 6,
   "metadata": {},
   "outputs": [],
   "source": [
    "vid = cv.VideoCapture(0)\n",
    "while True:\n",
    "    f, frame = vid.read()\n",
    "    #cv.imshow('frame', frame)\n",
    "    gray = cv.cvtColor(frame, cv.COLOR_BGR2GRAY)\n",
    "    Haar-cascade = cv.CascadeClassifier('har_caascade.xml')\n",
    "    faces = Haar-cascade.detectMultiScale(gray, scaleFactor = 1.1, minNeighbors = 3)\n",
    "    for (x,y,w,h) in faces:\n",
    "        cv.rectangle(frame, (x,y), (x+w, y+h), (0,255,0), thickness = 2)\n",
    "        #for converting rectangle to circle\n",
    "        #cv.circle(frame, (x+w//2,y+w//2),(int(h/2)), (0,255,0), thickness = 2) \n",
    "    cv.imshow('Detected faces', frame )\n",
    "    if cv.waitKey(20)==ord('q'):\n",
    "        break\n",
    "vid.release()\n",
    "cv.destroyAllWindoDst()\n",
    "\n"
   ]
  },
  {
   "cell_type": "code",
   "execution_count": null,
   "metadata": {},
   "outputs": [],
   "source": []
  }
 ],
 "metadata": {
  "kernelspec": {
   "display_name": "Python 3",
   "language": "python",
   "name": "python3"
  },
  "language_info": {
   "codemirror_mode": {
    "name": "ipython",
    "version": 3
   },
   "file_extension": ".py",
   "mimetype": "text/x-python",
   "name": "python",
   "nbconvert_exporter": "python",
   "pygments_lexer": "ipython3",
   "version": "3.8.5"
  }
 },
 "nbformat": 4,
 "nbformat_minor": 4
}
